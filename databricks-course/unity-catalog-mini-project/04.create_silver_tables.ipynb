{
 "cells": [
  {
   "cell_type": "markdown",
   "metadata": {
    "application/vnd.databricks.v1+cell": {
     "cellMetadata": {},
     "inputWidgets": {},
     "nuid": "7911fcfa-ac32-4880-bb9e-cadf23416091",
     "showTitle": false,
     "tableResultSettingsMap": {},
     "title": ""
    }
   },
   "source": [
    "### Crear Managed Table en el Schema silver\n",
    "1. clientes\n",
    "2. detalles"
   ]
  },
  {
   "cell_type": "code",
   "execution_count": 0,
   "metadata": {
    "application/vnd.databricks.v1+cell": {
     "cellMetadata": {
      "byteLimit": 2048000,
      "rowLimit": 10000
     },
     "inputWidgets": {},
     "nuid": "b55baab8-91ac-42c9-bd0f-7a5f74a4fc48",
     "showTitle": false,
     "tableResultSettingsMap": {},
     "title": ""
    }
   },
   "outputs": [],
   "source": [
    "DROP TABLE IF EXISTS telco_dev.silver.clientes;\n",
    "\n",
    "CREATE TABLE IF NOT EXISTS telco_dev.silver.clientes\n",
    "AS\n",
    "SELECT clienteId AS cliente_id,\n",
    "CONCAT(nombre,' ',paterno,' ',materno) AS nombre_completo,\n",
    "documentoIdentidad AS documento_identidad,\n",
    "telefono,\n",
    "email,\n",
    "direccion,\n",
    "current_timestamp() AS ingestion_date\n",
    "FROM telco_dev.bronze.clientes;"
   ]
  },
  {
   "cell_type": "code",
   "execution_count": 0,
   "metadata": {
    "application/vnd.databricks.v1+cell": {
     "cellMetadata": {
      "byteLimit": 2048000,
      "rowLimit": 10000
     },
     "inputWidgets": {},
     "nuid": "5e37d635-050d-438f-a972-64c2a8137ac2",
     "showTitle": false,
     "tableResultSettingsMap": {},
     "title": ""
    }
   },
   "outputs": [],
   "source": [
    "SELECT *\n",
    "FROM telco_dev.silver.clientes;"
   ]
  },
  {
   "cell_type": "code",
   "execution_count": 0,
   "metadata": {
    "application/vnd.databricks.v1+cell": {
     "cellMetadata": {
      "byteLimit": 2048000,
      "rowLimit": 10000
     },
     "inputWidgets": {},
     "nuid": "eb434647-025d-47f8-a390-7a59dde732aa",
     "showTitle": false,
     "tableResultSettingsMap": {},
     "title": ""
    }
   },
   "outputs": [],
   "source": [
    "DROP TABLE IF EXISTS telco_dev.silver.detalles;\n",
    "\n",
    "CREATE TABLE IF NOT EXISTS telco_dev.silver.detalles\n",
    "AS\n",
    "SELECT detalleId AS detalle_id,\n",
    "clienteId AS cliente_id,\n",
    "servicio,\n",
    "plan,\n",
    "precioMensual AS precio_mensual,\n",
    "estado,\n",
    "fechaInicio AS fecha_inicio,\n",
    "fechaFin AS fecha_fin,\n",
    "current_timestamp() AS ingestion_date\n",
    "FROM telco_dev.bronze.detalles;"
   ]
  },
  {
   "cell_type": "code",
   "execution_count": 0,
   "metadata": {
    "application/vnd.databricks.v1+cell": {
     "cellMetadata": {
      "byteLimit": 2048000,
      "rowLimit": 10000
     },
     "inputWidgets": {},
     "nuid": "bfa33db3-35da-495c-8d12-5bf965e5663b",
     "showTitle": false,
     "tableResultSettingsMap": {},
     "title": ""
    }
   },
   "outputs": [],
   "source": [
    "SELECT *\n",
    "FROM telco_dev.silver.detalles;"
   ]
  }
 ],
 "metadata": {
  "application/vnd.databricks.v1+notebook": {
   "computePreferences": null,
   "dashboards": [],
   "environmentMetadata": {
    "base_environment": "",
    "environment_version": "2"
   },
   "inputWidgetPreferences": null,
   "language": "sql",
   "notebookMetadata": {
    "pythonIndentUnit": 4
   },
   "notebookName": "04.create_silver_tables",
   "widgets": {}
  },
  "language_info": {
   "name": "sql"
  }
 },
 "nbformat": 4,
 "nbformat_minor": 0
}
