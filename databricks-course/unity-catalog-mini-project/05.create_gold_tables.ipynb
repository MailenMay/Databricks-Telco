{
 "cells": [
  {
   "cell_type": "markdown",
   "metadata": {
    "application/vnd.databricks.v1+cell": {
     "cellMetadata": {},
     "inputWidgets": {},
     "nuid": "7911fcfa-ac32-4880-bb9e-cadf23416091",
     "showTitle": false,
     "tableResultSettingsMap": {},
     "title": ""
    }
   },
   "source": [
    "### Crear Managed Table en el Schema gold\n",
    "- usar JOIN en las tablas \"clientes\" y \"detalles\" para obtener los \"ingresos por clientes\""
   ]
  },
  {
   "cell_type": "code",
   "execution_count": 0,
   "metadata": {
    "application/vnd.databricks.v1+cell": {
     "cellMetadata": {
      "byteLimit": 2048000,
      "rowLimit": 10000
     },
     "inputWidgets": {},
     "nuid": "b55baab8-91ac-42c9-bd0f-7a5f74a4fc48",
     "showTitle": false,
     "tableResultSettingsMap": {},
     "title": ""
    }
   },
   "outputs": [],
   "source": [
    "DROP TABLE IF EXISTS telco_dev.gold.ingreso_por_cliente;\n",
    "\n",
    "CREATE TABLE IF NOT EXISTS telco_dev.gold.ingreso_por_cliente\n",
    "AS\n",
    "SELECT C.nombre_completo, SUM(D.precio_mensual) AS ingreso\n",
    "FROM telco_dev.silver.clientes AS C\n",
    "INNER JOIN telco_dev.silver.detalles AS D\n",
    "ON C.cliente_Id = D.cliente_Id\n",
    "WHERE D.estado = true\n",
    "GROUP BY C.nombre_completo\n",
    "ORDER BY ingreso DESC;"
   ]
  },
  {
   "cell_type": "code",
   "execution_count": 0,
   "metadata": {
    "application/vnd.databricks.v1+cell": {
     "cellMetadata": {
      "byteLimit": 2048000,
      "rowLimit": 10000
     },
     "inputWidgets": {},
     "nuid": "7e1a428f-7c36-4530-98e1-d218a023eb34",
     "showTitle": false,
     "tableResultSettingsMap": {},
     "title": ""
    }
   },
   "outputs": [],
   "source": [
    "SELECT C.nombre_completo, SUM(D.precio_mensual) AS ingreso\n",
    "FROM telco_dev.silver.clientes AS C\n",
    "INNER JOIN telco_dev.silver.detalles AS D\n",
    "ON C.cliente_Id = D.cliente_Id\n",
    "WHERE D.estado = true\n",
    "GROUP BY C.nombre_completo\n",
    "ORDER BY ingreso DESC;"
   ]
  },
  {
   "cell_type": "code",
   "execution_count": 0,
   "metadata": {
    "application/vnd.databricks.v1+cell": {
     "cellMetadata": {
      "byteLimit": 2048000,
      "rowLimit": 10000
     },
     "inputWidgets": {},
     "nuid": "5e37d635-050d-438f-a972-64c2a8137ac2",
     "showTitle": false,
     "tableResultSettingsMap": {},
     "title": ""
    }
   },
   "outputs": [],
   "source": [
    "SELECT *\n",
    "FROM telco_dev.gold.ingreso_por_cliente;"
   ]
  }
 ],
 "metadata": {
  "application/vnd.databricks.v1+notebook": {
   "computePreferences": null,
   "dashboards": [],
   "environmentMetadata": {
    "base_environment": "",
    "environment_version": "2"
   },
   "inputWidgetPreferences": null,
   "language": "sql",
   "notebookMetadata": {},
   "notebookName": "05.create_gold_tables",
   "widgets": {}
  },
  "language_info": {
   "name": "sql"
  }
 },
 "nbformat": 4,
 "nbformat_minor": 0
}
