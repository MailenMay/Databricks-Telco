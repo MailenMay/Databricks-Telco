{
 "cells": [
  {
   "cell_type": "markdown",
   "metadata": {
    "application/vnd.databricks.v1+cell": {
     "cellMetadata": {},
     "inputWidgets": {},
     "nuid": "52e04bb2-6098-405e-bbfd-d83c177b941a",
     "showTitle": false,
     "tableResultSettingsMap": {},
     "title": ""
    }
   },
   "source": [
    "### Crear Tablas en el Schema Bronze\n",
    "1. clientes.csv desde \"abfss://bronze@sadatabricksext.dfs.core.windows.net/clientes.csv\"\n",
    "2. detalles.csv desde \"abfss://bronze@sadatabricksext.dfs.core.windows.net/detalles.csv\"\n"
   ]
  },
  {
   "cell_type": "code",
   "execution_count": 0,
   "metadata": {
    "application/vnd.databricks.v1+cell": {
     "cellMetadata": {
      "byteLimit": 2048000,
      "rowLimit": 10000
     },
     "inputWidgets": {},
     "nuid": "aa068889-9ee1-4f3a-978e-9eed57ae414e",
     "showTitle": false,
     "tableResultSettingsMap": {},
     "title": ""
    }
   },
   "outputs": [],
   "source": [
    "DROP TABLE IF EXISTS telco_dev.bronze.clientes;\n",
    "\n",
    "CREATE TABLE IF NOT EXISTS telco_dev.bronze.clientes(\n",
    "  clienteId INT,\n",
    "  nombre STRING,\n",
    "  paterno STRING,\n",
    "  materno STRING,\n",
    "  documentoIdentidad STRING,\n",
    "  telefono STRING,\n",
    "  email STRING,\n",
    "  direccion STRING\n",
    ") \n",
    "USING CSV\n",
    "OPTIONS (path \"abfss://bronze@sadatabricksext.dfs.core.windows.net/clientes.csv\",delimiter \";\"  ,header \"true\")"
   ]
  },
  {
   "cell_type": "code",
   "execution_count": 0,
   "metadata": {
    "application/vnd.databricks.v1+cell": {
     "cellMetadata": {
      "byteLimit": 2048000,
      "rowLimit": 10000
     },
     "inputWidgets": {},
     "nuid": "6bfeabef-c0fa-4c78-9d85-7a704c9515bd",
     "showTitle": false,
     "tableResultSettingsMap": {},
     "title": ""
    }
   },
   "outputs": [],
   "source": [
    "SELECT *\n",
    "FROM telco_dev.bronze.clientes;"
   ]
  },
  {
   "cell_type": "code",
   "execution_count": 0,
   "metadata": {
    "application/vnd.databricks.v1+cell": {
     "cellMetadata": {
      "byteLimit": 2048000,
      "rowLimit": 10000
     },
     "inputWidgets": {},
     "nuid": "3daf274d-fbda-4882-8075-114e438cc6d0",
     "showTitle": false,
     "tableResultSettingsMap": {},
     "title": ""
    }
   },
   "outputs": [],
   "source": [
    "DROP TABLE IF EXISTS telco_dev.bronze.detalles;\n",
    "\n",
    "CREATE TABLE IF NOT EXISTS telco_dev.bronze.detalles(\n",
    "  detalleId INT,\n",
    "  clienteId INT,\n",
    "  servicio STRING,\n",
    "  plan STRING,\n",
    "  precioMensual DECIMAL(5,2),\n",
    "  estado BOOLEAN,\n",
    "  fechaInicio DATE,\n",
    "  fechaFin DATE\n",
    ") \n",
    "USING CSV\n",
    "OPTIONS (path \"abfss://bronze@sadatabricksext.dfs.core.windows.net/detalles.csv\",delimiter \";\"  ,header \"true\")"
   ]
  },
  {
   "cell_type": "code",
   "execution_count": 0,
   "metadata": {
    "application/vnd.databricks.v1+cell": {
     "cellMetadata": {
      "byteLimit": 2048000,
      "rowLimit": 10000
     },
     "inputWidgets": {},
     "nuid": "46583aa8-15ec-42de-a6a3-28d3b62a3a70",
     "showTitle": false,
     "tableResultSettingsMap": {},
     "title": ""
    }
   },
   "outputs": [],
   "source": [
    "SELECT *\n",
    "FROM telco_dev.bronze.detalles;"
   ]
  }
 ],
 "metadata": {
  "application/vnd.databricks.v1+notebook": {
   "computePreferences": null,
   "dashboards": [],
   "environmentMetadata": {
    "base_environment": "",
    "environment_version": "2"
   },
   "inputWidgetPreferences": null,
   "language": "sql",
   "notebookMetadata": {
    "pythonIndentUnit": 4
   },
   "notebookName": "03.create_bronze_tables",
   "widgets": {}
  },
  "language_info": {
   "name": "sql"
  }
 },
 "nbformat": 4,
 "nbformat_minor": 0
}
